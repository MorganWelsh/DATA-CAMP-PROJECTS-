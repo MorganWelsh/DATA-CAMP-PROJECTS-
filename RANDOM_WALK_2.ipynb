{
  "nbformat": 4,
  "nbformat_minor": 0,
  "metadata": {
    "colab": {
      "provenance": [],
      "authorship_tag": "ABX9TyMvMU/Wp0wKtmkEy4F3as/n"
    },
    "kernelspec": {
      "name": "python3",
      "display_name": "Python 3"
    },
    "language_info": {
      "name": "python"
    }
  },
  "cells": [
    {
      "cell_type": "code",
      "execution_count": 9,
      "metadata": {
        "colab": {
          "base_uri": "https://localhost:8080/",
          "height": 430
        },
        "id": "y1fF9qWbVf7E",
        "outputId": "670dddf9-b5e5-457f-8ce6-bb656ea606ca"
      },
      "outputs": [
        {
          "output_type": "display_data",
          "data": {
            "text/plain": [
              "<Figure size 640x480 with 1 Axes>"
            ],
            "image/png": "[encoded data removed]"
          },
          "metadata": {}
        }
      ],
      "source": [
        "import numpy as np\n",
        "import matplotlib.pyplot as plt\n",
        "np.random.seed (123)\n",
        "\n",
        "# Simulate random walk 500 times\n",
        "all_walks = []\n",
        "for i in range(500) :\n",
        "    random_walk = [0]\n",
        "    for x in range(100) :\n",
        "        step = random_walk[-1]\n",
        "        dice = np.random.randint(1,7)\n",
        "        if dice <= 2:\n",
        "            step = max(0, step - 1)\n",
        "        elif dice <= 5:\n",
        "            step = step + 1\n",
        "        else:\n",
        "            step = step + np.random.randint(1,7)\n",
        "        if np.random.rand() <= 0.001 :\n",
        "            step = 0\n",
        "        random_walk.append(step)\n",
        "    all_walks.append(random_walk)\n",
        "\n",
        "# Create and plot np_aw_t\n",
        "np_aw_t = np.transpose(np.array(all_walks))\n",
        "\n",
        "# Select last row from np_aw_t: ends\n",
        "ends = np_aw_t[-1,:]\n",
        "\n",
        "# Plot histogram of ends, display plot\n",
        "plt.hist(ends)\n",
        "plt.show ()\n",
        "\n"
      ]
    },
    {
      "cell_type": "markdown",
      "source": [],
      "metadata": {
        "id": "qOpLuBb0zT6y"
      }
    },
    {
      "cell_type": "markdown",
      "source": [],
      "metadata": {
        "id": "T8iXwAPcvIgw"
      }
    },
    {
      "cell_type": "markdown",
      "source": [],
      "metadata": {
        "id": "hJ5dfXSxvBPE"
      }
    },
    {
      "cell_type": "markdown",
      "source": [],
      "metadata": {
        "id": "QOhBpKSjZ2uq"
      }
    },
    {
      "cell_type": "code",
      "source": [
        "np.mean(ends >=60)"
      ],
      "metadata": {
        "id": "GkUxdE3iZ3Yw",
        "colab": {
          "base_uri": "https://localhost:8080/"
        },
        "outputId": "10b742e2-dfbd-4cad-b3a1-638f4c558b1d"
      },
      "execution_count": 10,
      "outputs": [
        {
          "output_type": "execute_result",
          "data": {
            "text/plain": [
              "0.784"
            ]
          },
          "metadata": {},
          "execution_count": 10
        }
      ]
    }
  ]
}