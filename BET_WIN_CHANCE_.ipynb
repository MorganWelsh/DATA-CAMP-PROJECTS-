{
  "nbformat": 4,
  "nbformat_minor": 0,
  "metadata": {
    "colab": {
      "provenance": [],
      "authorship_tag": "ABX9TyNQU9R9SzEgM+qZBMPadgdO",
      "include_colab_link": true
    },
    "kernelspec": {
      "name": "python3",
      "display_name": "Python 3"
    },
    "language_info": {
      "name": "python"
    }
  },
  "cells": [
    {
      "cell_type": "markdown",
      "metadata": {
        "id": "view-in-github",
        "colab_type": "text"
      },
      "source": [
        "<a href=\"https://colab.research.google.com/github/MorganWelsh/DATA-CAMP-PROJECTS-/blob/main/BET_WIN_CHANCE_.ipynb\" target=\"_parent\"><img src=\"https://colab.research.google.com/assets/colab-badge.svg\" alt=\"Open In Colab\"/></a>"
      ]
    },
    {
      "cell_type": "code",
      "execution_count": 12,
      "metadata": {
        "colab": {
          "base_uri": "https://localhost:8080/"
        },
        "id": "y1fF9qWbVf7E",
        "outputId": "7578b25c-872d-4efb-e27c-7b287f435c95"
      },
      "outputs": [
        {
          "output_type": "stream",
          "name": "stdout",
          "text": [
            "6\n",
            "53\n"
          ]
        }
      ],
      "source": [
        "import numpy as np\n",
        "np.random.seed (123)\n",
        "\n",
        "# Use randint() to simulate a dice\n",
        "dice = np.random.randint (1,7)\n",
        "# Starting step\n",
        "step = 50\n",
        "# Finished control construct\n",
        "if dice <= 2 :\n",
        "  step = step -1\n",
        "elif dice <= 5 :\n",
        "  step = step + 1\n",
        "else:\n",
        "  step = step  + np.random.randint (1,7)\n",
        "\n",
        "print(dice)\n",
        "\n",
        "print(step)"
      ]
    },
    {
      "cell_type": "markdown",
      "source": [],
      "metadata": {
        "id": "QOhBpKSjZ2uq"
      }
    },
    {
      "cell_type": "code",
      "source": [],
      "metadata": {
        "id": "GkUxdE3iZ3Yw"
      },
      "execution_count": null,
      "outputs": []
    }
  ]
}